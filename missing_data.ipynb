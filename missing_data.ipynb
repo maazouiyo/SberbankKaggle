{
 "cells": [
  {
   "cell_type": "code",
   "execution_count": 96,
   "metadata": {
    "collapsed": false,
    "deletable": true,
    "editable": true
   },
   "outputs": [],
   "source": [
    "import pandas as pd\n",
    "import numpy as np\n",
    "import missingno as msno\n",
    "import seaborn as sns\n",
    "import matplotlib.pyplot as plt\n",
    "from sklearn.preprocessing import LabelBinarizer\n",
    "from sklearn.neighbors import KNeighborsClassifier\n",
    "from sklearn.metrics import mean_squared_error\n",
    "from sklearn.model_selection import train_test_split\n",
    "from sklearn.neighbors.nearest_centroid import NearestCentroid\n",
    "%matplotlib inline"
   ]
  },
  {
   "cell_type": "code",
   "execution_count": 11,
   "metadata": {
    "collapsed": false,
    "deletable": true,
    "editable": true
   },
   "outputs": [],
   "source": [
    "train = pd.read_csv(\"data/train.csv\")\n",
    "test = pd.read_csv(\"data/test.csv\")\n",
    "df = pd.concat([train,test])\n"
   ]
  },
  {
   "cell_type": "code",
   "execution_count": 15,
   "metadata": {
    "collapsed": false,
    "deletable": true,
    "editable": true
   },
   "outputs": [
    {
     "name": "stdout",
     "output_type": "stream",
     "text": [
      "shape of train :(30471, 292)\n",
      "shape of test :(7662, 291)\n",
      "shape of total data:(38133, 292)\n",
      "<class 'pandas.core.frame.DataFrame'>\n",
      "Int64Index: 38133 entries, 0 to 7661\n",
      "Columns: 292 entries, 0_13_all to zd_vokzaly_avto_km\n",
      "dtypes: float64(121), int64(155), object(16)\n",
      "memory usage: 85.2+ MB\n"
     ]
    }
   ],
   "source": [
    "print (\"shape of train :\" + str(train.shape))\n",
    "print(\"shape of test :\" + str(test.shape))\n",
    "print (\"shape of total data:\" + str(df.shape))\n",
    "df.info()\n"
   ]
  },
  {
   "cell_type": "code",
   "execution_count": 121,
   "metadata": {
    "collapsed": false,
    "deletable": true,
    "editable": true
   },
   "outputs": [],
   "source": [
    "df_clean = df \n",
    "\n",
    "#Replace the NA value of floor with zero \n",
    "df_clean[\"floor\"] = df_clean.floor.fillna(value = 0)\n",
    "df_clean.floor.value_counts(dropna=False)\n",
    "\n",
    "#Replace the NA value of max_floor with the value of floor \n",
    "df_clean[\"max_floor\"] = df_clean.max_floor.fillna(df_clean.floor)\n",
    "\n",
    "df_clean.sub_area = df_clean.sub_area.astype(\"category\")\n",
    "\n",
    "def build_year_predict(zone):\n",
    "    build_year_zone  = df_clean[[\"build_year\",\"sub_area\",\"price_doc\"]].dropna(axis=0,how='any')\n",
    "    build_year_zone = build_year_zone[build_year_zone.sub_area == zone]\n",
    "    return (int(build_year_zone.build_year.mean()))\n",
    "\n",
    "df_clean[\"build_year\"] = df_clean.apply(lambda x : build_year_predict(x.sub_area),1)"
   ]
  },
  {
   "cell_type": "code",
   "execution_count": 122,
   "metadata": {
    "collapsed": false,
    "scrolled": false
   },
   "outputs": [
    {
     "data": {
      "text/plain": [
       "1669      2629\n",
       "1027      1956\n",
       "1755      1710\n",
       "1975      1281\n",
       "1965      1177\n",
       "1978      1169\n",
       "1365      1154\n",
       "1982      1092\n",
       "1968      1019\n",
       "1660       859\n",
       "1823       852\n",
       "1972       849\n",
       "1974       841\n",
       "1967       812\n",
       "1979       806\n",
       "1970       763\n",
       "1742       738\n",
       "1977       724\n",
       "1969       722\n",
       "1976       713\n",
       "1567       706\n",
       "1987       633\n",
       "1550       600\n",
       "1932       571\n",
       "1939       570\n",
       "1752       541\n",
       "1792       529\n",
       "1638       524\n",
       "1964       493\n",
       "1883       478\n",
       "          ... \n",
       "1929       228\n",
       "1990       226\n",
       "1946       225\n",
       "1936       219\n",
       "1961       215\n",
       "194766     195\n",
       "1948       189\n",
       "1879       178\n",
       "1992       175\n",
       "1906       173\n",
       "1973       173\n",
       "1411       168\n",
       "1980       162\n",
       "1957       143\n",
       "1891       140\n",
       "1955       114\n",
       "1981       101\n",
       "2007       101\n",
       "2003        83\n",
       "1963        70\n",
       "1902        59\n",
       "1999        52\n",
       "1944        44\n",
       "732         33\n",
       "1984        30\n",
       "1750        28\n",
       "1991        23\n",
       "1949        22\n",
       "2012         4\n",
       "2011         4\n",
       "Name: build_year, Length: 82, dtype: int64"
      ]
     },
     "execution_count": 122,
     "metadata": {},
     "output_type": "execute_result"
    }
   ],
   "source": [
    "df_clean.build_year.value_counts(dropna=False)"
   ]
  }
 ],
 "metadata": {
  "kernelspec": {
   "display_name": "Python 2",
   "language": "python",
   "name": "python2"
  },
  "language_info": {
   "codemirror_mode": {
    "name": "ipython",
    "version": 2
   },
   "file_extension": ".py",
   "mimetype": "text/x-python",
   "name": "python",
   "nbconvert_exporter": "python",
   "pygments_lexer": "ipython2",
   "version": "2.7.9"
  }
 },
 "nbformat": 4,
 "nbformat_minor": 2
}
