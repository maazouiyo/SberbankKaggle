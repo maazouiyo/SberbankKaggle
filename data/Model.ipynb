{
 "cells": [
  {
   "cell_type": "code",
   "execution_count": 47,
   "metadata": {
    "collapsed": false,
    "deletable": true,
    "editable": true
   },
   "outputs": [],
   "source": [
    "import pandas as pd\n",
    "import matplotlib.pyplot as plt\n",
    "from sklearn import linear_model\n",
    "from sklearn.feature_selection import RFE\n",
    "from sklearn.preprocessing import LabelEncoder\n",
    "from sklearn.tree import DecisionTreeRegressor\n",
    "from sklearn.ensemble import RandomForestRegressor\n",
    "import numpy as np\n",
    "%matplotlib inline"
   ]
  },
  {
   "cell_type": "code",
   "execution_count": 3,
   "metadata": {
    "collapsed": false,
    "deletable": true,
    "editable": true
   },
   "outputs": [],
   "source": [
    "train = pd.read_csv(\"train.csv\")\n",
    "test = pd.read_csv(\"test.csv\")\n",
    "price = pd.read_csv(\"sample_submission.csv\")"
   ]
  },
  {
   "cell_type": "code",
   "execution_count": 4,
   "metadata": {
    "collapsed": false,
    "deletable": true,
    "editable": true
   },
   "outputs": [],
   "source": [
    "#Model with population variable\n",
    "y = train[\"price_doc\"].as_matrix()\n",
    "test.index = test[\"id\"];\n",
    "price.index = price[\"id\"] ; price.pop(\"id\")\n",
    "testp = pd.concat([test,price],axis=1)\n",
    "def population(x):\n",
    "    aux = x.split(\"_\");\n",
    "    return (\"male\" in aux or \"female\" in aux)\n",
    "\n",
    "k1 = filter(population, train.keys())\n",
    "k2 = filter(lambda x : \"all\" in x.split(\"_\"), train.keys())\n",
    "\n",
    "keys =k1+k2 +[\"full_sq\"]\n",
    "x = train[keys].as_matrix()\n",
    "xt = testp[keys].as_matrix()\n",
    "yt = testp[\"price_doc\"].as_matrix()"
   ]
  },
  {
   "cell_type": "code",
   "execution_count": 5,
   "metadata": {
    "collapsed": false,
    "deletable": true,
    "editable": true
   },
   "outputs": [
    {
     "data": {
      "text/plain": [
       "LinearRegression(copy_X=True, fit_intercept=True, n_jobs=1, normalize=False)"
      ]
     },
     "execution_count": 5,
     "metadata": {},
     "output_type": "execute_result"
    }
   ],
   "source": [
    "mdl1 = linear_model.LinearRegression()\n",
    "mdl1.fit(x,y)\n"
   ]
  },
  {
   "cell_type": "code",
   "execution_count": 6,
   "metadata": {
    "collapsed": false,
    "deletable": true,
    "editable": true
   },
   "outputs": [
    {
     "name": "stdout",
     "output_type": "stream",
     "text": [
      "0.205587007912\n"
     ]
    }
   ],
   "source": [
    "print(mdl1.score(x,y))\n",
    "yp = mdl1.predict(xt)\n",
    "err = yt -yp"
   ]
  },
  {
   "cell_type": "code",
   "execution_count": 7,
   "metadata": {
    "collapsed": false,
    "deletable": true,
    "editable": true
   },
   "outputs": [
    {
     "data": {
      "image/png": "[encoded data removed]",
      "text/plain": [
       "<matplotlib.figure.Figure at 0x7efcf6bac7d0>"
      ]
     },
     "metadata": {},
     "output_type": "display_data"
    }
   ],
   "source": [
    "plt.plot(err)\n",
    "plt.show()"
   ]
  },
  {
   "cell_type": "code",
   "execution_count": 8,
   "metadata": {
    "collapsed": false,
    "deletable": true,
    "editable": true
   },
   "outputs": [
    {
     "name": "stdout",
     "output_type": "stream",
     "text": [
      "0.156891232988\n"
     ]
    },
    {
     "data": {
      "text/plain": [
       "array([ -5.20293158e-01,   3.87925885e+01,  -2.97372188e+01,\n",
       "         1.29125927e+02,   4.41700107e+04])"
      ]
     },
     "execution_count": 8,
     "metadata": {},
     "output_type": "execute_result"
    }
   ],
   "source": [
    "x1 = train[[u\"full_all\",u\"young_all\",u\"work_all\",u\"ekder_all\",\"full_sq\"]].as_matrix()\n",
    "mdl2 = linear_model.LinearRegression()\n",
    "mdl2.fit(x1,y)\n",
    "print(mdl2.score(x1,y))\n",
    "mdl2.coef_"
   ]
  },
  {
   "cell_type": "code",
   "execution_count": 9,
   "metadata": {
    "collapsed": false,
    "deletable": true,
    "editable": true
   },
   "outputs": [
    {
     "name": "stdout",
     "output_type": "stream",
     "text": [
      "0.302927678964\n"
     ]
    }
   ],
   "source": [
    "keys = keys + filter(lambda x : x.split(\"_\")[-1]==\"km\", train.keys())\n",
    "x2 = train[keys].fillna(value=0).as_matrix()\n",
    "md3 = linear_model.LinearRegression()\n",
    "md3.fit(x2,y)\n",
    "print(md3.score(x2,y))"
   ]
  },
  {
   "cell_type": "code",
   "execution_count": 10,
   "metadata": {
    "collapsed": false,
    "deletable": true,
    "editable": true
   },
   "outputs": [
    {
     "name": "stdout",
     "output_type": "stream",
     "text": [
      "0.322884243396\n"
     ]
    }
   ],
   "source": [
    "keys = keys +filter(lambda x :\"cafe\" in x.split(\"_\"), train.keys())\n",
    "x3 = train[keys].fillna(value=0).as_matrix()\n",
    "md4 = linear_model.LinearRegression()\n",
    "md4.fit(x3,y)\n",
    "print(md4.score(x3,y))"
   ]
  },
  {
   "cell_type": "code",
   "execution_count": 11,
   "metadata": {
    "collapsed": false,
    "deletable": true,
    "editable": true
   },
   "outputs": [
    {
     "data": {
      "text/plain": [
       "id                                                       2\n",
       "timestamp                                       2011-08-23\n",
       "full_sq                                                 34\n",
       "life_sq                                                 19\n",
       "floor                                                    3\n",
       "max_floor                                              NaN\n",
       "material                                               NaN\n",
       "build_year                                             NaN\n",
       "num_room                                               NaN\n",
       "kitch_sq                                               NaN\n",
       "state                                                  NaN\n",
       "product_type                                    Investment\n",
       "sub_area                                 Nagatinskij Zaton\n",
       "area_m                                         9.58934e+06\n",
       "raion_popul                                         115352\n",
       "green_zone_part                                   0.372602\n",
       "indust_part                                      0.0496373\n",
       "children_preschool                                    6880\n",
       "preschool_quota                                       3119\n",
       "preschool_education_centers_raion                        5\n",
       "children_school                                       7759\n",
       "school_quota                                          6237\n",
       "school_education_centers_raion                           8\n",
       "school_education_centers_top_20_raion                    0\n",
       "hospital_beds_raion                                    229\n",
       "healthcare_centers_raion                                 1\n",
       "university_top_20_raion                                  0\n",
       "sport_objects_raion                                      6\n",
       "additional_education_raion                               1\n",
       "culture_objects_top_25                                 yes\n",
       "                                               ...        \n",
       "big_church_count_3000                                    1\n",
       "church_count_3000                                        7\n",
       "mosque_count_3000                                        0\n",
       "leisure_count_3000                                       6\n",
       "sport_count_3000                                        19\n",
       "market_count_3000                                        1\n",
       "green_part_5000                                      10.26\n",
       "prom_part_5000                                       27.47\n",
       "office_count_5000                                       66\n",
       "office_sqm_5000                                    2690465\n",
       "trc_count_5000                                          40\n",
       "trc_sqm_5000                                       2034942\n",
       "cafe_count_5000                                        177\n",
       "cafe_sum_5000_min_price_avg                         673.81\n",
       "cafe_sum_5000_max_price_avg                        1148.81\n",
       "cafe_avg_price_5000                                 911.31\n",
       "cafe_count_5000_na_price                                 9\n",
       "cafe_count_5000_price_500                               49\n",
       "cafe_count_5000_price_1000                              65\n",
       "cafe_count_5000_price_1500                              36\n",
       "cafe_count_5000_price_2500                              15\n",
       "cafe_count_5000_price_4000                               3\n",
       "cafe_count_5000_price_high                               0\n",
       "big_church_count_5000                                   15\n",
       "church_count_5000                                       29\n",
       "mosque_count_5000                                        1\n",
       "leisure_count_5000                                      10\n",
       "sport_count_5000                                        66\n",
       "market_count_5000                                       14\n",
       "price_doc                                          6000000\n",
       "Name: 1, Length: 292, dtype: object"
      ]
     },
     "execution_count": 11,
     "metadata": {},
     "output_type": "execute_result"
    }
   ],
   "source": [
    "line = train.iloc[1,:]\n",
    "line"
   ]
  },
  {
   "cell_type": "code",
   "execution_count": 12,
   "metadata": {
    "collapsed": false,
    "deletable": true,
    "editable": true
   },
   "outputs": [],
   "source": [
    "k = []\n",
    "for key in line.keys():\n",
    "    if isinstance(line[key],int) or isinstance(line[key],float):\n",
    "        if(key != \"price_doc\" and key != \"id\"):\n",
    "            k.append(key)"
   ]
  },
  {
   "cell_type": "code",
   "execution_count": 13,
   "metadata": {
    "collapsed": false,
    "deletable": true,
    "editable": true
   },
   "outputs": [
    {
     "name": "stdout",
     "output_type": "stream",
     "text": [
      "0.42749745099\n"
     ]
    }
   ],
   "source": [
    "x4 = train[k].fillna(value=0).as_matrix()\n",
    "xt4 = test[k].fillna(value=0).as_matrix()\n",
    "md5 = linear_model.LinearRegression()\n",
    "md5.fit(x4,y)\n",
    "print(md5.score(x4,y))"
   ]
  },
  {
   "cell_type": "code",
   "execution_count": 16,
   "metadata": {
    "collapsed": false,
    "deletable": true,
    "editable": true
   },
   "outputs": [
    {
     "data": {
      "text/plain": [
       "[<matplotlib.lines.Line2D at 0x7efcf54a6c10>]"
      ]
     },
     "execution_count": 16,
     "metadata": {},
     "output_type": "execute_result"
    },
    {
     "data": {
      "image/png": "[encoded data removed]",
      "text/plain": [
       "<matplotlib.figure.Figure at 0x7efcf6b9f050>"
      ]
     },
     "metadata": {},
     "output_type": "display_data"
    }
   ],
   "source": [
    "yp = md5.predict(xt4)\n",
    "err = yt -yp\n",
    "\n",
    "%matplotlib inline\n",
    "plt.plot(err)"
   ]
  },
  {
   "cell_type": "code",
   "execution_count": 17,
   "metadata": {
    "collapsed": false,
    "deletable": true,
    "editable": true
   },
   "outputs": [
    {
     "ename": "KeyboardInterrupt",
     "evalue": "",
     "output_type": "error",
     "traceback": [
      "\u001b[0;31m---------------------------------------------------------------------------\u001b[0m",
      "\u001b[0;31mKeyboardInterrupt\u001b[0m                         Traceback (most recent call last)",
      "\u001b[0;32m<ipython-input-17-7d2f34518c45>\u001b[0m in \u001b[0;36m<module>\u001b[0;34m()\u001b[0m\n\u001b[1;32m      1\u001b[0m \u001b[0mrfe\u001b[0m \u001b[0;34m=\u001b[0m \u001b[0mRFE\u001b[0m\u001b[0;34m(\u001b[0m\u001b[0mmd5\u001b[0m\u001b[0;34m,\u001b[0m\u001b[0;36m10\u001b[0m\u001b[0;34m)\u001b[0m\u001b[0;34m\u001b[0m\u001b[0m\n\u001b[0;32m----> 2\u001b[0;31m \u001b[0mrfe\u001b[0m\u001b[0;34m.\u001b[0m\u001b[0mfit\u001b[0m\u001b[0;34m(\u001b[0m\u001b[0mx4\u001b[0m\u001b[0;34m,\u001b[0m\u001b[0my\u001b[0m\u001b[0;34m)\u001b[0m\u001b[0;34m\u001b[0m\u001b[0m\n\u001b[0m",
      "\u001b[0;32m/home/eisti/.local/lib/python2.7/site-packages/sklearn/feature_selection/rfe.pyc\u001b[0m in \u001b[0;36mfit\u001b[0;34m(self, X, y)\u001b[0m\n\u001b[1;32m    133\u001b[0m             \u001b[0mThe\u001b[0m \u001b[0mtarget\u001b[0m \u001b[0mvalues\u001b[0m\u001b[0;34m.\u001b[0m\u001b[0;34m\u001b[0m\u001b[0m\n\u001b[1;32m    134\u001b[0m         \"\"\"\n\u001b[0;32m--> 135\u001b[0;31m         \u001b[0;32mreturn\u001b[0m \u001b[0mself\u001b[0m\u001b[0;34m.\u001b[0m\u001b[0m_fit\u001b[0m\u001b[0;34m(\u001b[0m\u001b[0mX\u001b[0m\u001b[0;34m,\u001b[0m \u001b[0my\u001b[0m\u001b[0;34m)\u001b[0m\u001b[0;34m\u001b[0m\u001b[0m\n\u001b[0m\u001b[1;32m    136\u001b[0m \u001b[0;34m\u001b[0m\u001b[0m\n\u001b[1;32m    137\u001b[0m     \u001b[0;32mdef\u001b[0m \u001b[0m_fit\u001b[0m\u001b[0;34m(\u001b[0m\u001b[0mself\u001b[0m\u001b[0;34m,\u001b[0m \u001b[0mX\u001b[0m\u001b[0;34m,\u001b[0m \u001b[0my\u001b[0m\u001b[0;34m,\u001b[0m \u001b[0mstep_score\u001b[0m\u001b[0;34m=\u001b[0m\u001b[0mNone\u001b[0m\u001b[0;34m)\u001b[0m\u001b[0;34m:\u001b[0m\u001b[0;34m\u001b[0m\u001b[0m\n",
      "\u001b[0;32m/home/eisti/.local/lib/python2.7/site-packages/sklearn/feature_selection/rfe.pyc\u001b[0m in \u001b[0;36m_fit\u001b[0;34m(self, X, y, step_score)\u001b[0m\n\u001b[1;32m    167\u001b[0m                 \u001b[0;32mprint\u001b[0m\u001b[0;34m(\u001b[0m\u001b[0;34m\"Fitting estimator with %d features.\"\u001b[0m \u001b[0;34m%\u001b[0m \u001b[0mnp\u001b[0m\u001b[0;34m.\u001b[0m\u001b[0msum\u001b[0m\u001b[0;34m(\u001b[0m\u001b[0msupport_\u001b[0m\u001b[0;34m)\u001b[0m\u001b[0;34m)\u001b[0m\u001b[0;34m\u001b[0m\u001b[0m\n\u001b[1;32m    168\u001b[0m \u001b[0;34m\u001b[0m\u001b[0m\n\u001b[0;32m--> 169\u001b[0;31m             \u001b[0mestimator\u001b[0m\u001b[0;34m.\u001b[0m\u001b[0mfit\u001b[0m\u001b[0;34m(\u001b[0m\u001b[0mX\u001b[0m\u001b[0;34m[\u001b[0m\u001b[0;34m:\u001b[0m\u001b[0;34m,\u001b[0m \u001b[0mfeatures\u001b[0m\u001b[0;34m]\u001b[0m\u001b[0;34m,\u001b[0m \u001b[0my\u001b[0m\u001b[0;34m)\u001b[0m\u001b[0;34m\u001b[0m\u001b[0m\n\u001b[0m\u001b[1;32m    170\u001b[0m \u001b[0;34m\u001b[0m\u001b[0m\n\u001b[1;32m    171\u001b[0m             \u001b[0;31m# Get coefs\u001b[0m\u001b[0;34m\u001b[0m\u001b[0;34m\u001b[0m\u001b[0m\n",
      "\u001b[0;32m/home/eisti/.local/lib/python2.7/site-packages/sklearn/linear_model/base.pyc\u001b[0m in \u001b[0;36mfit\u001b[0;34m(self, X, y, sample_weight)\u001b[0m\n\u001b[1;32m    537\u001b[0m         \u001b[0;32melse\u001b[0m\u001b[0;34m:\u001b[0m\u001b[0;34m\u001b[0m\u001b[0m\n\u001b[1;32m    538\u001b[0m             \u001b[0mself\u001b[0m\u001b[0;34m.\u001b[0m\u001b[0mcoef_\u001b[0m\u001b[0;34m,\u001b[0m \u001b[0mself\u001b[0m\u001b[0;34m.\u001b[0m\u001b[0m_residues\u001b[0m\u001b[0;34m,\u001b[0m \u001b[0mself\u001b[0m\u001b[0;34m.\u001b[0m\u001b[0mrank_\u001b[0m\u001b[0;34m,\u001b[0m \u001b[0mself\u001b[0m\u001b[0;34m.\u001b[0m\u001b[0msingular_\u001b[0m \u001b[0;34m=\u001b[0m\u001b[0;31m \u001b[0m\u001b[0;31m\\\u001b[0m\u001b[0;34m\u001b[0m\u001b[0m\n\u001b[0;32m--> 539\u001b[0;31m                 \u001b[0mlinalg\u001b[0m\u001b[0;34m.\u001b[0m\u001b[0mlstsq\u001b[0m\u001b[0;34m(\u001b[0m\u001b[0mX\u001b[0m\u001b[0;34m,\u001b[0m \u001b[0my\u001b[0m\u001b[0;34m)\u001b[0m\u001b[0;34m\u001b[0m\u001b[0m\n\u001b[0m\u001b[1;32m    540\u001b[0m             \u001b[0mself\u001b[0m\u001b[0;34m.\u001b[0m\u001b[0mcoef_\u001b[0m \u001b[0;34m=\u001b[0m \u001b[0mself\u001b[0m\u001b[0;34m.\u001b[0m\u001b[0mcoef_\u001b[0m\u001b[0;34m.\u001b[0m\u001b[0mT\u001b[0m\u001b[0;34m\u001b[0m\u001b[0m\n\u001b[1;32m    541\u001b[0m \u001b[0;34m\u001b[0m\u001b[0m\n",
      "\u001b[0;32m/home/eisti/.local/lib/python2.7/site-packages/scipy/linalg/basic.pyc\u001b[0m in \u001b[0;36mlstsq\u001b[0;34m(a, b, cond, overwrite_a, overwrite_b, check_finite, lapack_driver)\u001b[0m\n\u001b[1;32m    892\u001b[0m \u001b[0;34m\u001b[0m\u001b[0m\n\u001b[1;32m    893\u001b[0m                 x, s, rank, info = lapack_func(a1, b1, lwork,\n\u001b[0;32m--> 894\u001b[0;31m                                                iwork, cond, False, False)\n\u001b[0m\u001b[1;32m    895\u001b[0m             \u001b[0;32melse\u001b[0m\u001b[0;34m:\u001b[0m  \u001b[0;31m# complex data\u001b[0m\u001b[0;34m\u001b[0m\u001b[0m\n\u001b[1;32m    896\u001b[0m                 lwork, rwork, iwork = _compute_lwork(lapack_lwork, m, n,\n",
      "\u001b[0;31mKeyboardInterrupt\u001b[0m: "
     ]
    }
   ],
   "source": [
    "rfe = RFE(md5,10)\n",
    "rfe.fit(x4,y)\n"
   ]
  },
  {
   "cell_type": "code",
   "execution_count": 68,
   "metadata": {
    "collapsed": false,
    "deletable": true,
    "editable": true
   },
   "outputs": [
    {
     "name": "stdout",
     "output_type": "stream",
     "text": [
      "['raion_build_count_with_material_info', 'build_count_block', 'build_count_wood', 'build_count_frame', 'build_count_brick', 'build_count_monolith', 'build_count_panel', 'build_count_foam', 'build_count_slag', 'build_count_mix', 'raion_build_count_with_builddate_info', 'build_count_before_1920', 'build_count_1921-1945', 'build_count_1946-1970', 'build_count_1971-1995', 'build_count_after_1995', 'cafe_count_5000_price_1500', 'cafe_count_5000_price_4000']\n"
     ]
    }
   ],
   "source": [
    "rang = rfe.ranking_\n",
    "k1 =[]\n",
    "for i in range(len(rang)):\n",
    "    if (rang[i] <10):\n",
    "        k1.append(k[i]);\n",
    "print(k1)"
   ]
  },
  {
   "cell_type": "code",
   "execution_count": 70,
   "metadata": {
    "collapsed": false,
    "deletable": true,
    "editable": true
   },
   "outputs": [
    {
     "name": "stdout",
     "output_type": "stream",
     "text": [
      "0.106666798724\n"
     ]
    }
   ],
   "source": [
    "x5 = train[k1].fillna(value=0).as_matrix()\n",
    "xt5 = test[k1].fillna(value=0).as_matrix()\n",
    "md6 = linear_model.LinearRegression()\n",
    "md6.fit(x5,y)\n",
    "print(md6.score(x5,y))"
   ]
  },
  {
   "cell_type": "code",
   "execution_count": 18,
   "metadata": {
    "collapsed": false,
    "deletable": true,
    "editable": true
   },
   "outputs": [
    {
     "data": {
      "image/png": "[encoded data removed]",
      "text/plain": [
       "<matplotlib.figure.Figure at 0x7efcf5716dd0>"
      ]
     },
     "metadata": {},
     "output_type": "display_data"
    }
   ],
   "source": [
    "suf = train.get([\"full_sq\"])\n",
    "suf1 = suf.loc[(suf[\"full_sq\"]<400)].plot()\n",
    "plt.show()"
   ]
  },
  {
   "cell_type": "code",
   "execution_count": 19,
   "metadata": {
    "collapsed": false,
    "deletable": true,
    "editable": true
   },
   "outputs": [
    {
     "name": "stdout",
     "output_type": "stream",
     "text": [
      "0.373613404904\n"
     ]
    }
   ],
   "source": [
    "train1 = train.loc[(train[\"full_sq\"] <200) & (train[\"full_sq\"] >8) ]\n",
    "\n",
    "surf = train1.get([\"full_sq\",\"life_sq\"]).fillna(value=0).as_matrix();\n",
    "target = train1.get([\"price_doc\"]).as_matrix();\n",
    "mdl = linear_model.LinearRegression()\n",
    "mdl.fit(surf,target)\n",
    "print(mdl.score(surf,target))"
   ]
  },
  {
   "cell_type": "code",
   "execution_count": 20,
   "metadata": {
    "collapsed": false,
    "deletable": true,
    "editable": true
   },
   "outputs": [
    {
     "data": {
      "text/html": [
       "<div>\n",
       "<style>\n",
       "    .dataframe thead tr:only-child th {\n",
       "        text-align: right;\n",
       "    }\n",
       "\n",
       "    .dataframe thead th {\n",
       "        text-align: left;\n",
       "    }\n",
       "\n",
       "    .dataframe tbody tr th {\n",
       "        vertical-align: top;\n",
       "    }\n",
       "</style>\n",
       "<table border=\"1\" class=\"dataframe\">\n",
       "  <thead>\n",
       "    <tr style=\"text-align: right;\">\n",
       "      <th></th>\n",
       "      <th>full_sq</th>\n",
       "      <th>life_sq</th>\n",
       "    </tr>\n",
       "  </thead>\n",
       "  <tbody>\n",
       "    <tr>\n",
       "      <th>0</th>\n",
       "      <td>43</td>\n",
       "      <td>27.0</td>\n",
       "    </tr>\n",
       "    <tr>\n",
       "      <th>1</th>\n",
       "      <td>34</td>\n",
       "      <td>19.0</td>\n",
       "    </tr>\n",
       "    <tr>\n",
       "      <th>2</th>\n",
       "      <td>43</td>\n",
       "      <td>29.0</td>\n",
       "    </tr>\n",
       "    <tr>\n",
       "      <th>3</th>\n",
       "      <td>89</td>\n",
       "      <td>50.0</td>\n",
       "    </tr>\n",
       "    <tr>\n",
       "      <th>4</th>\n",
       "      <td>77</td>\n",
       "      <td>77.0</td>\n",
       "    </tr>\n",
       "  </tbody>\n",
       "</table>\n",
       "</div>"
      ],
      "text/plain": [
       "   full_sq  life_sq\n",
       "0       43     27.0\n",
       "1       34     19.0\n",
       "2       43     29.0\n",
       "3       89     50.0\n",
       "4       77     77.0"
      ]
     },
     "execution_count": 20,
     "metadata": {},
     "output_type": "execute_result"
    }
   ],
   "source": [
    "surfs = train1[[\"full_sq\",\"life_sq\"]]\n",
    "surfs.head()"
   ]
  },
  {
   "cell_type": "code",
   "execution_count": 21,
   "metadata": {
    "collapsed": false,
    "deletable": true,
    "editable": true
   },
   "outputs": [],
   "source": [
    "inds =[]\n",
    "for ind in surfs.index:\n",
    "    line = surfs.loc[ind];\n",
    "    if (line[\"full_sq\"] < line[\"life_sq\"]):\n",
    "        aux =line[\"full_sq\"];\n",
    "        surfs.set_value(ind, \"full_sq\",line[\"life_sq\"]);\n",
    "        surfs.set_value(ind, \"life_sq\",aux);\n",
    "        inds.append(ind);\n"
   ]
  },
  {
   "cell_type": "code",
   "execution_count": 22,
   "metadata": {
    "collapsed": false,
    "deletable": true,
    "editable": true
   },
   "outputs": [
    {
     "data": {
      "text/html": [
       "<div>\n",
       "<style>\n",
       "    .dataframe thead tr:only-child th {\n",
       "        text-align: right;\n",
       "    }\n",
       "\n",
       "    .dataframe thead th {\n",
       "        text-align: left;\n",
       "    }\n",
       "\n",
       "    .dataframe tbody tr th {\n",
       "        vertical-align: top;\n",
       "    }\n",
       "</style>\n",
       "<table border=\"1\" class=\"dataframe\">\n",
       "  <thead>\n",
       "    <tr style=\"text-align: right;\">\n",
       "      <th></th>\n",
       "      <th>full_sq</th>\n",
       "      <th>life_sq</th>\n",
       "    </tr>\n",
       "  </thead>\n",
       "  <tbody>\n",
       "    <tr>\n",
       "      <th>0</th>\n",
       "      <td>43</td>\n",
       "      <td>27.0</td>\n",
       "    </tr>\n",
       "    <tr>\n",
       "      <th>1</th>\n",
       "      <td>34</td>\n",
       "      <td>19.0</td>\n",
       "    </tr>\n",
       "    <tr>\n",
       "      <th>2</th>\n",
       "      <td>43</td>\n",
       "      <td>29.0</td>\n",
       "    </tr>\n",
       "    <tr>\n",
       "      <th>3</th>\n",
       "      <td>89</td>\n",
       "      <td>50.0</td>\n",
       "    </tr>\n",
       "    <tr>\n",
       "      <th>4</th>\n",
       "      <td>77</td>\n",
       "      <td>77.0</td>\n",
       "    </tr>\n",
       "  </tbody>\n",
       "</table>\n",
       "</div>"
      ],
      "text/plain": [
       "   full_sq  life_sq\n",
       "0       43     27.0\n",
       "1       34     19.0\n",
       "2       43     29.0\n",
       "3       89     50.0\n",
       "4       77     77.0"
      ]
     },
     "execution_count": 22,
     "metadata": {},
     "output_type": "execute_result"
    }
   ],
   "source": [
    "nsurf = surfs.loc[(surfs[\"life_sq\"].notnull())]\n",
    "nsurf.head()"
   ]
  },
  {
   "cell_type": "code",
   "execution_count": 23,
   "metadata": {
    "collapsed": false,
    "deletable": true,
    "editable": true
   },
   "outputs": [
    {
     "data": {
      "text/plain": [
       "0.63343611736369632"
      ]
     },
     "execution_count": 23,
     "metadata": {},
     "output_type": "execute_result"
    }
   ],
   "source": [
    "rep = nsurf[\"life_sq\"]/nsurf[\"full_sq\"];\n",
    "m = rep.mean()\n",
    "m"
   ]
  },
  {
   "cell_type": "code",
   "execution_count": 24,
   "metadata": {
    "collapsed": false,
    "deletable": true,
    "editable": true
   },
   "outputs": [
    {
     "name": "stderr",
     "output_type": "stream",
     "text": [
      "/home/eisti/.local/lib/python2.7/site-packages/ipykernel/__main__.py:3: SettingWithCopyWarning: \n",
      "A value is trying to be set on a copy of a slice from a DataFrame.\n",
      "Try using .loc[row_indexer,col_indexer] = value instead\n",
      "\n",
      "See the caveats in the documentation: http://pandas.pydata.org/pandas-docs/stable/indexing.html#indexing-view-versus-copy\n",
      "  app.launch_new_instance()\n"
     ]
    },
    {
     "data": {
      "text/html": [
       "<div>\n",
       "<style>\n",
       "    .dataframe thead tr:only-child th {\n",
       "        text-align: right;\n",
       "    }\n",
       "\n",
       "    .dataframe thead th {\n",
       "        text-align: left;\n",
       "    }\n",
       "\n",
       "    .dataframe tbody tr th {\n",
       "        vertical-align: top;\n",
       "    }\n",
       "</style>\n",
       "<table border=\"1\" class=\"dataframe\">\n",
       "  <thead>\n",
       "    <tr style=\"text-align: right;\">\n",
       "      <th></th>\n",
       "      <th>full_sq</th>\n",
       "      <th>life_sq</th>\n",
       "    </tr>\n",
       "  </thead>\n",
       "  <tbody>\n",
       "    <tr>\n",
       "      <th>559</th>\n",
       "      <td>73</td>\n",
       "      <td>46.240837</td>\n",
       "    </tr>\n",
       "    <tr>\n",
       "      <th>624</th>\n",
       "      <td>110</td>\n",
       "      <td>69.677973</td>\n",
       "    </tr>\n",
       "    <tr>\n",
       "      <th>783</th>\n",
       "      <td>167</td>\n",
       "      <td>105.783832</td>\n",
       "    </tr>\n",
       "    <tr>\n",
       "      <th>824</th>\n",
       "      <td>53</td>\n",
       "      <td>33.572114</td>\n",
       "    </tr>\n",
       "    <tr>\n",
       "      <th>834</th>\n",
       "      <td>81</td>\n",
       "      <td>51.308326</td>\n",
       "    </tr>\n",
       "  </tbody>\n",
       "</table>\n",
       "</div>"
      ],
      "text/plain": [
       "     full_sq     life_sq\n",
       "559       73   46.240837\n",
       "624      110   69.677973\n",
       "783      167  105.783832\n",
       "824       53   33.572114\n",
       "834       81   51.308326"
      ]
     },
     "execution_count": 24,
     "metadata": {},
     "output_type": "execute_result"
    }
   ],
   "source": [
    "nulsurf = surfs.loc[(surfs[\"life_sq\"].isnull())]\n",
    "nulsurf.pop(\"life_sq\")\n",
    "nulsurf[\"life_sq\"] = m*nulsurf[\"full_sq\"]\n",
    "nulsurf.head()"
   ]
  },
  {
   "cell_type": "code",
   "execution_count": 25,
   "metadata": {
    "collapsed": false,
    "deletable": true,
    "editable": true
   },
   "outputs": [
    {
     "data": {
      "text/html": [
       "<div>\n",
       "<style>\n",
       "    .dataframe thead tr:only-child th {\n",
       "        text-align: right;\n",
       "    }\n",
       "\n",
       "    .dataframe thead th {\n",
       "        text-align: left;\n",
       "    }\n",
       "\n",
       "    .dataframe tbody tr th {\n",
       "        vertical-align: top;\n",
       "    }\n",
       "</style>\n",
       "<table border=\"1\" class=\"dataframe\">\n",
       "  <thead>\n",
       "    <tr style=\"text-align: right;\">\n",
       "      <th></th>\n",
       "      <th>full_sq</th>\n",
       "      <th>life_sq</th>\n",
       "    </tr>\n",
       "  </thead>\n",
       "  <tbody>\n",
       "    <tr>\n",
       "      <th>0</th>\n",
       "      <td>43</td>\n",
       "      <td>27.0</td>\n",
       "    </tr>\n",
       "    <tr>\n",
       "      <th>1</th>\n",
       "      <td>34</td>\n",
       "      <td>19.0</td>\n",
       "    </tr>\n",
       "    <tr>\n",
       "      <th>2</th>\n",
       "      <td>43</td>\n",
       "      <td>29.0</td>\n",
       "    </tr>\n",
       "    <tr>\n",
       "      <th>3</th>\n",
       "      <td>89</td>\n",
       "      <td>50.0</td>\n",
       "    </tr>\n",
       "    <tr>\n",
       "      <th>4</th>\n",
       "      <td>77</td>\n",
       "      <td>77.0</td>\n",
       "    </tr>\n",
       "  </tbody>\n",
       "</table>\n",
       "</div>"
      ],
      "text/plain": [
       "   full_sq  life_sq\n",
       "0       43     27.0\n",
       "1       34     19.0\n",
       "2       43     29.0\n",
       "3       89     50.0\n",
       "4       77     77.0"
      ]
     },
     "execution_count": 25,
     "metadata": {},
     "output_type": "execute_result"
    }
   ],
   "source": [
    "surface = pd.concat([nsurf,nulsurf])\n",
    "surface.head()"
   ]
  },
  {
   "cell_type": "code",
   "execution_count": 26,
   "metadata": {
    "collapsed": false,
    "deletable": true,
    "editable": true
   },
   "outputs": [
    {
     "name": "stdout",
     "output_type": "stream",
     "text": [
      "0.000382683730449\n"
     ]
    }
   ],
   "source": [
    "mdl21 = linear_model.LinearRegression()\n",
    "mdl21.fit(surface,target)\n",
    "print(mdl21.score(surface,target))"
   ]
  },
  {
   "cell_type": "code",
   "execution_count": 27,
   "metadata": {
    "collapsed": false,
    "deletable": true,
    "editable": true
   },
   "outputs": [
    {
     "name": "stdout",
     "output_type": "stream",
     "text": [
      "0.373613404904\n"
     ]
    }
   ],
   "source": [
    "surf0 = train1.get([\"full_sq\",\"life_sq\"]).fillna(value=0);\n",
    "mdl0 = linear_model.LinearRegression()\n",
    "mdl0.fit(surf0.as_matrix(),target)\n",
    "print(mdl0.score(surf0.as_matrix(),target))"
   ]
  },
  {
   "cell_type": "code",
   "execution_count": 28,
   "metadata": {
    "collapsed": false,
    "deletable": true,
    "editable": true
   },
   "outputs": [
    {
     "name": "stdout",
     "output_type": "stream",
     "text": [
      "0.179466600478\n"
     ]
    }
   ],
   "source": [
    "surf1 = surf0.copy()\n",
    "for ind in surf1.index:\n",
    "    line = surf1.loc[ind];\n",
    "    if (line[\"full_sq\"] < line[\"life_sq\"]):\n",
    "        aux =line[\"full_sq\"];\n",
    "        surf1.set_value(ind, \"full_sq\",line[\"life_sq\"]);\n",
    "        surf1.set_value(ind, \"life_sq\",aux);\n",
    "\n",
    "mdl1 = linear_model.LinearRegression()\n",
    "mdl1.fit(surf1.as_matrix(),target)\n",
    "print(mdl1.score(surf1.as_matrix(),target))"
   ]
  },
  {
   "cell_type": "code",
   "execution_count": 29,
   "metadata": {
    "collapsed": false,
    "deletable": true,
    "editable": true
   },
   "outputs": [
    {
     "name": "stderr",
     "output_type": "stream",
     "text": [
      "/home/eisti/.local/lib/python2.7/site-packages/ipykernel/__main__.py:2: SettingWithCopyWarning: \n",
      "A value is trying to be set on a copy of a slice from a DataFrame.\n",
      "Try using .loc[row_indexer,col_indexer] = value instead\n",
      "\n",
      "See the caveats in the documentation: http://pandas.pydata.org/pandas-docs/stable/indexing.html#indexing-view-versus-copy\n",
      "  from ipykernel import kernelapp as app\n"
     ]
    },
    {
     "name": "stdout",
     "output_type": "stream",
     "text": [
      "2.53893926291\n",
      "0.0400235973879\n"
     ]
    }
   ],
   "source": [
    "fsurf = surf0.loc[(surf0[\"full_sq\"] >= surf0[\"life_sq\"]) & surf0[\"life_sq\"] != 0]\n",
    "fsurf[\"rapport\"] = fsurf[\"full_sq\"]/fsurf[\"life_sq\"]\n",
    "m = fsurf[\"rapport\"].mean()\n",
    "print(m)\n",
    "surf2 = surf0.copy()\n",
    "for ind in surf2.index:\n",
    "    line = surf2.loc[ind];\n",
    "    if (line[\"full_sq\"] < line[\"life_sq\"]):\n",
    "        aux =line[\"full_sq\"];\n",
    "        surf2.set_value(ind, \"full_sq\",line[\"life_sq\"]*m);\n",
    "\n",
    "mdl2 = linear_model.LinearRegression()\n",
    "mdl2.fit(surf2.as_matrix(),target)\n",
    "print(mdl2.score(surf2.as_matrix(),target))"
   ]
  },
  {
   "cell_type": "code",
   "execution_count": 30,
   "metadata": {
    "collapsed": false,
    "deletable": true,
    "editable": true
   },
   "outputs": [
    {
     "name": "stdout",
     "output_type": "stream",
     "text": [
      "0.386342919835\n"
     ]
    }
   ],
   "source": [
    "train2 = train.loc[(train[\"full_sq\"] <200) & (train[\"full_sq\"] >8) & (train[\"full_sq\"] >= train[\"life_sq\"]) ]\n",
    "\n",
    "surf3 = train2.get([\"full_sq\",\"life_sq\"]).fillna(value=0);\n",
    "target1 = train2.get([\"price_doc\"]).as_matrix();\n",
    "mdl3 = linear_model.LinearRegression()\n",
    "mdl3.fit(surf3.as_matrix(),target1)\n",
    "print(mdl.score(surf3.as_matrix(),target1))"
   ]
  },
  {
   "cell_type": "code",
   "execution_count": 31,
   "metadata": {
    "collapsed": false,
    "deletable": true,
    "editable": true
   },
   "outputs": [
    {
     "name": "stderr",
     "output_type": "stream",
     "text": [
      "/home/eisti/.local/lib/python2.7/site-packages/ipykernel/__main__.py:2: SettingWithCopyWarning: \n",
      "A value is trying to be set on a copy of a slice from a DataFrame.\n",
      "Try using .loc[row_indexer,col_indexer] = value instead\n",
      "\n",
      "See the caveats in the documentation: http://pandas.pydata.org/pandas-docs/stable/indexing.html#indexing-view-versus-copy\n",
      "  from ipykernel import kernelapp as app\n"
     ]
    },
    {
     "name": "stdout",
     "output_type": "stream",
     "text": [
      "0.634691199264\n",
      "0.0659874942644\n"
     ]
    }
   ],
   "source": [
    "fsurf = surf3.loc[(surf3[\"life_sq\"] != 0)]\n",
    "fsurf[\"rapport\"] = fsurf[\"life_sq\"]/fsurf[\"full_sq\"]\n",
    "m = fsurf[\"rapport\"].mean()\n",
    "print(m)\n",
    "surf4 = surf3.copy()\n",
    "for ind in surf4.index:\n",
    "    line = surf4.loc[ind];\n",
    "    if (line[\"life_sq\"]==0):\n",
    "        surf2.set_value(ind, \"life_sq\",line[\"full_sq\"]*m);\n",
    "\n",
    "mdl4 = linear_model.LinearRegression()\n",
    "mdl4.fit(surf4.as_matrix(),target1)\n",
    "print(mdl2.score(surf4.as_matrix(),target1))"
   ]
  },
  {
   "cell_type": "code",
   "execution_count": 153,
   "metadata": {
    "collapsed": false,
    "deletable": true,
    "editable": true
   },
   "outputs": [
    {
     "name": "stdout",
     "output_type": "stream",
     "text": [
      "0.580553550023\n"
     ]
    }
   ],
   "source": [
    "mdl5 = linear_model.LinearRegression()\n",
    "mdl5.fit(train2[k].fillna(value=0).as_matrix(),target1)\n",
    "print(mdl5.score(train2[k].fillna(value=0).as_matrix(),target1))"
   ]
  },
  {
   "cell_type": "code",
   "execution_count": 32,
   "metadata": {
    "collapsed": false,
    "deletable": true,
    "editable": true
   },
   "outputs": [
    {
     "name": "stdout",
     "output_type": "stream",
     "text": [
      "0.576289109282\n"
     ]
    }
   ],
   "source": [
    "train5 = train.select_dtypes(include=[\"float64\",\"int64\"])\n",
    "qte = train5.loc[(train5[\"full_sq\"] <200) & (train5[\"full_sq\"] !=0) & (train5[\"full_sq\"] >= train5[\"life_sq\"]) ]\n",
    "target = qte.pop(\"price_doc\");\n",
    "\n",
    "x = qte.fillna(value=0).as_matrix()\n",
    "\n",
    "mdl6 = linear_model.LinearRegression()\n",
    "mdl6.fit(x,target);\n",
    "print(mdl6.score(x,target))"
   ]
  },
  {
   "cell_type": "code",
   "execution_count": 35,
   "metadata": {
    "collapsed": false,
    "deletable": true,
    "editable": true
   },
   "outputs": [
    {
     "name": "stdout",
     "output_type": "stream",
     "text": [
      "0.598345943929\n"
     ]
    }
   ],
   "source": [
    "train1 = train.loc[(train[\"full_sq\"] <320) & (train[\"full_sq\"] >8)]\n",
    "x= train1[k].fillna(value=0)\n",
    "y = train1[\"price_doc\"]\n",
    "mdl = linear_model.LinearRegression()\n",
    "mdl.fit(x,y)\n",
    "print(mdl.score(x,y))"
   ]
  },
  {
   "cell_type": "code",
   "execution_count": 36,
   "metadata": {
    "collapsed": false,
    "deletable": true,
    "editable": true
   },
   "outputs": [
    {
     "name": "stderr",
     "output_type": "stream",
     "text": [
      "/home/eisti/.local/lib/python2.7/site-packages/ipykernel/__main__.py:1: SettingWithCopyWarning: \n",
      "A value is trying to be set on a copy of a slice from a DataFrame.\n",
      "Try using .loc[row_indexer,col_indexer] = value instead\n",
      "\n",
      "See the caveats in the documentation: http://pandas.pydata.org/pandas-docs/stable/indexing.html#indexing-view-versus-copy\n",
      "  if __name__ == '__main__':\n"
     ]
    }
   ],
   "source": [
    "train1[\"timestamp\"] = pd.to_datetime(train1[\"timestamp\"])\n"
   ]
  },
  {
   "cell_type": "code",
   "execution_count": 37,
   "metadata": {
    "collapsed": false,
    "deletable": true,
    "editable": true
   },
   "outputs": [],
   "source": [
    "x[\"mois\"] = train1.get([\"timestamp\"]).applymap(func = lambda x : x.month)\n",
    "x[\"jour\"] = train1.get([\"timestamp\"]).applymap(func = lambda x : x.day)\n",
    "x[\"annee\"] = train1.get([\"timestamp\"]).applymap(func = lambda x : x.year)"
   ]
  },
  {
   "cell_type": "code",
   "execution_count": 38,
   "metadata": {
    "collapsed": false,
    "deletable": true,
    "editable": true
   },
   "outputs": [
    {
     "name": "stdout",
     "output_type": "stream",
     "text": [
      "0.602342800746\n"
     ]
    }
   ],
   "source": [
    "mdl = linear_model.LinearRegression()\n",
    "mdl.fit(x,y)\n",
    "print(mdl.score(x,y))"
   ]
  },
  {
   "cell_type": "code",
   "execution_count": 39,
   "metadata": {
    "collapsed": false,
    "deletable": true,
    "editable": true
   },
   "outputs": [
    {
     "name": "stderr",
     "output_type": "stream",
     "text": [
      "/home/eisti/.local/lib/python2.7/site-packages/ipykernel/__main__.py:5: SettingWithCopyWarning: \n",
      "A value is trying to be set on a copy of a slice from a DataFrame.\n",
      "Try using .loc[row_indexer,col_indexer] = value instead\n",
      "\n",
      "See the caveats in the documentation: http://pandas.pydata.org/pandas-docs/stable/indexing.html#indexing-view-versus-copy\n",
      "/home/eisti/.local/lib/python2.7/site-packages/ipykernel/__main__.py:6: SettingWithCopyWarning: \n",
      "A value is trying to be set on a copy of a slice from a DataFrame.\n",
      "Try using .loc[row_indexer,col_indexer] = value instead\n",
      "\n",
      "See the caveats in the documentation: http://pandas.pydata.org/pandas-docs/stable/indexing.html#indexing-view-versus-copy\n"
     ]
    },
    {
     "data": {
      "text/html": [
       "<div>\n",
       "<style>\n",
       "    .dataframe thead tr:only-child th {\n",
       "        text-align: right;\n",
       "    }\n",
       "\n",
       "    .dataframe thead th {\n",
       "        text-align: left;\n",
       "    }\n",
       "\n",
       "    .dataframe tbody tr th {\n",
       "        vertical-align: top;\n",
       "    }\n",
       "</style>\n",
       "<table border=\"1\" class=\"dataframe\">\n",
       "  <thead>\n",
       "    <tr style=\"text-align: right;\">\n",
       "      <th></th>\n",
       "      <th>product_type</th>\n",
       "      <th>sub_area</th>\n",
       "      <th>culture_objects_top_25</th>\n",
       "      <th>thermal_power_plant_raion</th>\n",
       "      <th>incineration_raion</th>\n",
       "      <th>oil_chemistry_raion</th>\n",
       "      <th>radiation_raion</th>\n",
       "      <th>railroad_terminal_raion</th>\n",
       "      <th>big_market_raion</th>\n",
       "      <th>nuclear_reactor_raion</th>\n",
       "      <th>detention_facility_raion</th>\n",
       "      <th>water_1line</th>\n",
       "      <th>big_road1_1line</th>\n",
       "      <th>railroad_1line</th>\n",
       "      <th>ecology</th>\n",
       "    </tr>\n",
       "    <tr>\n",
       "      <th>id</th>\n",
       "      <th></th>\n",
       "      <th></th>\n",
       "      <th></th>\n",
       "      <th></th>\n",
       "      <th></th>\n",
       "      <th></th>\n",
       "      <th></th>\n",
       "      <th></th>\n",
       "      <th></th>\n",
       "      <th></th>\n",
       "      <th></th>\n",
       "      <th></th>\n",
       "      <th></th>\n",
       "      <th></th>\n",
       "      <th></th>\n",
       "    </tr>\n",
       "  </thead>\n",
       "  <tbody>\n",
       "    <tr>\n",
       "      <th>30474</th>\n",
       "      <td>33</td>\n",
       "      <td>38</td>\n",
       "      <td>0</td>\n",
       "      <td>0</td>\n",
       "      <td>0</td>\n",
       "      <td>0</td>\n",
       "      <td>0</td>\n",
       "      <td>0</td>\n",
       "      <td>0</td>\n",
       "      <td>0</td>\n",
       "      <td>0</td>\n",
       "      <td>0</td>\n",
       "      <td>0</td>\n",
       "      <td>0</td>\n",
       "      <td>4</td>\n",
       "    </tr>\n",
       "    <tr>\n",
       "      <th>30475</th>\n",
       "      <td>34</td>\n",
       "      <td>102</td>\n",
       "      <td>0</td>\n",
       "      <td>0</td>\n",
       "      <td>0</td>\n",
       "      <td>0</td>\n",
       "      <td>0</td>\n",
       "      <td>0</td>\n",
       "      <td>0</td>\n",
       "      <td>0</td>\n",
       "      <td>0</td>\n",
       "      <td>0</td>\n",
       "      <td>0</td>\n",
       "      <td>0</td>\n",
       "      <td>2</td>\n",
       "    </tr>\n",
       "    <tr>\n",
       "      <th>30476</th>\n",
       "      <td>33</td>\n",
       "      <td>84</td>\n",
       "      <td>0</td>\n",
       "      <td>1</td>\n",
       "      <td>0</td>\n",
       "      <td>1</td>\n",
       "      <td>1</td>\n",
       "      <td>0</td>\n",
       "      <td>0</td>\n",
       "      <td>0</td>\n",
       "      <td>0</td>\n",
       "      <td>0</td>\n",
       "      <td>0</td>\n",
       "      <td>0</td>\n",
       "      <td>3</td>\n",
       "    </tr>\n",
       "    <tr>\n",
       "      <th>30477</th>\n",
       "      <td>34</td>\n",
       "      <td>104</td>\n",
       "      <td>0</td>\n",
       "      <td>0</td>\n",
       "      <td>0</td>\n",
       "      <td>0</td>\n",
       "      <td>0</td>\n",
       "      <td>0</td>\n",
       "      <td>0</td>\n",
       "      <td>0</td>\n",
       "      <td>0</td>\n",
       "      <td>0</td>\n",
       "      <td>0</td>\n",
       "      <td>0</td>\n",
       "      <td>2</td>\n",
       "    </tr>\n",
       "    <tr>\n",
       "      <th>30478</th>\n",
       "      <td>34</td>\n",
       "      <td>102</td>\n",
       "      <td>0</td>\n",
       "      <td>0</td>\n",
       "      <td>0</td>\n",
       "      <td>0</td>\n",
       "      <td>0</td>\n",
       "      <td>0</td>\n",
       "      <td>0</td>\n",
       "      <td>0</td>\n",
       "      <td>0</td>\n",
       "      <td>0</td>\n",
       "      <td>0</td>\n",
       "      <td>0</td>\n",
       "      <td>2</td>\n",
       "    </tr>\n",
       "  </tbody>\n",
       "</table>\n",
       "</div>"
      ],
      "text/plain": [
       "       product_type  sub_area  culture_objects_top_25  \\\n",
       "id                                                      \n",
       "30474            33        38                       0   \n",
       "30475            34       102                       0   \n",
       "30476            33        84                       0   \n",
       "30477            34       104                       0   \n",
       "30478            34       102                       0   \n",
       "\n",
       "       thermal_power_plant_raion  incineration_raion  oil_chemistry_raion  \\\n",
       "id                                                                          \n",
       "30474                          0                   0                    0   \n",
       "30475                          0                   0                    0   \n",
       "30476                          1                   0                    1   \n",
       "30477                          0                   0                    0   \n",
       "30478                          0                   0                    0   \n",
       "\n",
       "       radiation_raion  railroad_terminal_raion  big_market_raion  \\\n",
       "id                                                                  \n",
       "30474                0                        0                 0   \n",
       "30475                0                        0                 0   \n",
       "30476                1                        0                 0   \n",
       "30477                0                        0                 0   \n",
       "30478                0                        0                 0   \n",
       "\n",
       "       nuclear_reactor_raion  detention_facility_raion  water_1line  \\\n",
       "id                                                                    \n",
       "30474                      0                         0            0   \n",
       "30475                      0                         0            0   \n",
       "30476                      0                         0            0   \n",
       "30477                      0                         0            0   \n",
       "30478                      0                         0            0   \n",
       "\n",
       "       big_road1_1line  railroad_1line  ecology  \n",
       "id                                               \n",
       "30474                0               0        4  \n",
       "30475                0               0        2  \n",
       "30476                0               0        3  \n",
       "30477                0               0        2  \n",
       "30478                0               0        2  "
      ]
     },
     "execution_count": 39,
     "metadata": {},
     "output_type": "execute_result"
    }
   ],
   "source": [
    "categ = train1.select_dtypes(include=[\"object\"]); \n",
    "xt = testp.select_dtypes(include=[\"object\"]); xt.pop(\"timestamp\")\n",
    "for cat in categ.keys():\n",
    "    lb = LabelEncoder()\n",
    "    categ[cat] = lb.fit_transform(categ[cat])\n",
    "    xt[cat] = lb.fit_transform(xt[cat])\n",
    "\n",
    "xt.head()"
   ]
  },
  {
   "cell_type": "code",
   "execution_count": 40,
   "metadata": {
    "collapsed": false,
    "deletable": true,
    "editable": true
   },
   "outputs": [
    {
     "name": "stdout",
     "output_type": "stream",
     "text": [
      "0.605864884966\n"
     ]
    }
   ],
   "source": [
    "model = linear_model.LinearRegression()\n",
    "fulldata = pd.concat([categ,x],axis=1)\n",
    "model.fit(fulldata,train1[\"price_doc\"])\n",
    "print(model.score(fulldata,train1[\"price_doc\"]))"
   ]
  },
  {
   "cell_type": "code",
   "execution_count": 42,
   "metadata": {
    "collapsed": false,
    "deletable": true,
    "editable": true
   },
   "outputs": [],
   "source": [
    "xt2 = test.select_dtypes(include =[\"float64\",\"int64\"]).fillna(value=0)\n",
    "test[\"timestamp\"] = pd.to_datetime(test[\"timestamp\"])\n",
    "xt2[\"mois\"] = test.get([\"timestamp\"]).applymap(func = lambda x : x.month)\n",
    "xt2[\"jour\"] = test.get([\"timestamp\"]).applymap(func = lambda x : x.day)\n",
    "xt2[\"annee\"] = test.get([\"timestamp\"]).applymap(func = lambda x : x.year)\n",
    "xt2.pop(\"id\"); \n",
    "fulltest = pd.concat([xt,xt2],axis=1)\n",
    "yp = model.predict(fulltest)\n"
   ]
  },
  {
   "cell_type": "code",
   "execution_count": 43,
   "metadata": {
    "collapsed": false,
    "deletable": true,
    "editable": true
   },
   "outputs": [
    {
     "data": {
      "image/png": "[encoded data removed]",
      "text/plain": [
       "<matplotlib.figure.Figure at 0x7efcf5602f10>"
      ]
     },
     "metadata": {},
     "output_type": "display_data"
    },
    {
     "data": {
      "text/plain": [
       "count    7.662000e+03\n",
       "mean    -2.406408e+07\n",
       "std      3.844293e+06\n",
       "min     -7.863599e+07\n",
       "25%     -2.584929e+07\n",
       "50%     -2.362140e+07\n",
       "75%     -2.177670e+07\n",
       "max      1.438996e+06\n",
       "Name: price_doc, dtype: float64"
      ]
     },
     "execution_count": 43,
     "metadata": {},
     "output_type": "execute_result"
    }
   ],
   "source": [
    "err = testp[\"price_doc\"]- yp\n",
    "plt.plot(err)\n",
    "plt.show()\n",
    "err.describe()"
   ]
  },
  {
   "cell_type": "code",
   "execution_count": 46,
   "metadata": {
    "collapsed": false,
    "deletable": true,
    "editable": true
   },
   "outputs": [
    {
     "data": {
      "image/png": "[encoded data removed]",
      "text/plain": [
       "<matplotlib.figure.Figure at 0x7efcf4fd8b50>"
      ]
     },
     "metadata": {},
     "output_type": "display_data"
    },
    {
     "ename": "AttributeError",
     "evalue": "'numpy.ndarray' object has no attribute 'describe'",
     "output_type": "error",
     "traceback": [
      "\u001b[0;31m---------------------------------------------------------------------------\u001b[0m",
      "\u001b[0;31mAttributeError\u001b[0m                            Traceback (most recent call last)",
      "\u001b[0;32m<ipython-input-46-6e5ea5c016d3>\u001b[0m in \u001b[0;36m<module>\u001b[0;34m()\u001b[0m\n\u001b[1;32m      4\u001b[0m \u001b[0mplt\u001b[0m\u001b[0;34m.\u001b[0m\u001b[0mplot\u001b[0m\u001b[0;34m(\u001b[0m\u001b[0merr\u001b[0m\u001b[0;34m)\u001b[0m\u001b[0;34m\u001b[0m\u001b[0m\n\u001b[1;32m      5\u001b[0m \u001b[0mplt\u001b[0m\u001b[0;34m.\u001b[0m\u001b[0mshow\u001b[0m\u001b[0;34m(\u001b[0m\u001b[0;34m)\u001b[0m\u001b[0;34m\u001b[0m\u001b[0m\n\u001b[0;32m----> 6\u001b[0;31m \u001b[0merr\u001b[0m\u001b[0;34m.\u001b[0m\u001b[0mdescribe\u001b[0m\u001b[0;34m(\u001b[0m\u001b[0;34m)\u001b[0m\u001b[0;34m\u001b[0m\u001b[0m\n\u001b[0m",
      "\u001b[0;31mAttributeError\u001b[0m: 'numpy.ndarray' object has no attribute 'describe'"
     ]
    }
   ],
   "source": [
    "model1 = RandomForestRegressor()\n",
    "model1.fit(fulldata,train1[\"price_doc\"])\n",
    "err = model1.predict(fulltest)-yp\n",
    "plt.plot(err)\n",
    "plt.show()\n",
    "err.describe()"
   ]
  },
  {
   "cell_type": "code",
   "execution_count": 49,
   "metadata": {
    "collapsed": false
   },
   "outputs": [
    {
     "data": {
      "image/png": "[encoded data removed]",
      "text/plain": [
       "<matplotlib.figure.Figure at 0x7efcf4eb1510>"
      ]
     },
     "metadata": {},
     "output_type": "display_data"
    },
    {
     "name": "stdout",
     "output_type": "stream",
     "text": [
      "23671696.5457\n",
      "51784841.8595\n",
      "353920.017968\n"
     ]
    }
   ],
   "source": [
    "model2 = RandomForestRegressor(n_estimators=200,min_samples_leaf=5)\n",
    "model2.fit(fulldata,train1[\"price_doc\"])\n",
    "err =yp - model2.predict(fulltest)\n",
    "plt.plot(err)\n",
    "plt.show()\n",
    "print np.mean(err)\n",
    "print np.max(err)\n",
    "print np.min(err)"
   ]
  },
  {
   "cell_type": "code",
   "execution_count": null,
   "metadata": {
    "collapsed": true
   },
   "outputs": [],
   "source": []
  }
 ],
 "metadata": {
  "kernelspec": {
   "display_name": "Python 2",
   "language": "python",
   "name": "python2"
  },
  "language_info": {
   "codemirror_mode": {
    "name": "ipython",
    "version": 2
   },
   "file_extension": ".py",
   "mimetype": "text/x-python",
   "name": "python",
   "nbconvert_exporter": "python",
   "pygments_lexer": "ipython2",
   "version": "2.7.9"
  }
 },
 "nbformat": 4,
 "nbformat_minor": 2
}
