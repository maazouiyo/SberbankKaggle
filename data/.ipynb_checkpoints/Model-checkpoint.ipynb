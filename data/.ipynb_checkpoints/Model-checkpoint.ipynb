{
 "cells": [
  {
   "cell_type": "code",
   "execution_count": 63,
   "metadata": {
    "collapsed": false
   },
   "outputs": [],
   "source": [
    "import pandas as pd\n",
    "import matplotlib.pyplot as plt\n",
    "from sklearn import linear_model\n",
    "from sklearn.feature_selection import RFE\n",
    "import numpy\n",
    "%matplotlib inline"
   ]
  },
  {
   "cell_type": "code",
   "execution_count": 35,
   "metadata": {
    "collapsed": false
   },
   "outputs": [],
   "source": [
    "train = pd.read_csv(\"train.csv\")\n",
    "test = pd.read_csv(\"test.csv\")\n",
    "price = pd.read_csv(\"sample_submission.csv\")"
   ]
  },
  {
   "cell_type": "code",
   "execution_count": 36,
   "metadata": {
    "collapsed": false
   },
   "outputs": [],
   "source": [
    "#Model with population variable\n",
    "y = train[\"price_doc\"].as_matrix()\n",
    "test.index = test[\"id\"];\n",
    "price.index = price[\"id\"] ; price.pop(\"id\")\n",
    "testp = pd.concat([test,price],axis=1)\n",
    "def population(x):\n",
    "    aux = x.split(\"_\");\n",
    "    return (\"male\" in aux or \"female\" in aux)\n",
    "\n",
    "k1 = filter(population, train.keys())\n",
    "k2 = filter(lambda x : \"all\" in x.split(\"_\"), train.keys())\n",
    "\n",
    "keys =k1+k2 +[\"full_sq\"]\n",
    "x = train[keys].as_matrix()\n",
    "xt = testp[keys].as_matrix()\n",
    "yt = testp[\"price_doc\"].as_matrix()"
   ]
  },
  {
   "cell_type": "code",
   "execution_count": 37,
   "metadata": {
    "collapsed": false
   },
   "outputs": [
    {
     "data": {
      "text/plain": [
       "LinearRegression(copy_X=True, fit_intercept=True, n_jobs=1, normalize=False)"
      ]
     },
     "execution_count": 37,
     "metadata": {},
     "output_type": "execute_result"
    }
   ],
   "source": [
    "mdl1 = linear_model.LinearRegression()\n",
    "mdl1.fit(x,y)\n"
   ]
  },
  {
   "cell_type": "code",
   "execution_count": 38,
   "metadata": {
    "collapsed": false
   },
   "outputs": [
    {
     "name": "stdout",
     "output_type": "stream",
     "text": [
      "0.205587007912\n"
     ]
    }
   ],
   "source": [
    "print(mdl1.score(x,y))\n",
    "yp = mdl1.predict(xt)\n",
    "err = yt -yp"
   ]
  },
  {
   "cell_type": "code",
   "execution_count": 40,
   "metadata": {
    "collapsed": false
   },
   "outputs": [],
   "source": [
    "plt.plot(err)\n",
    "plt.show()"
   ]
  },
  {
   "cell_type": "code",
   "execution_count": 41,
   "metadata": {
    "collapsed": false
   },
   "outputs": [
    {
     "name": "stdout",
     "output_type": "stream",
     "text": [
      "0.156891232988\n"
     ]
    },
    {
     "data": {
      "text/plain": [
       "array([ -5.20293158e-01,   3.87925885e+01,  -2.97372188e+01,\n",
       "         1.29125927e+02,   4.41700107e+04])"
      ]
     },
     "execution_count": 41,
     "metadata": {},
     "output_type": "execute_result"
    }
   ],
   "source": [
    "x1 = train[[u\"full_all\",u\"young_all\",u\"work_all\",u\"ekder_all\",\"full_sq\"]].as_matrix()\n",
    "mdl2 = linear_model.LinearRegression()\n",
    "mdl2.fit(x1,y)\n",
    "print(mdl2.score(x1,y))\n",
    "mdl2.coef_"
   ]
  },
  {
   "cell_type": "code",
   "execution_count": 43,
   "metadata": {
    "collapsed": false
   },
   "outputs": [
    {
     "name": "stdout",
     "output_type": "stream",
     "text": [
      "0.302927678965\n"
     ]
    }
   ],
   "source": [
    "keys = keys + filter(lambda x : x.split(\"_\")[-1]==\"km\", train.keys())\n",
    "x2 = train[keys].fillna(value=0).as_matrix()\n",
    "md3 = linear_model.LinearRegression()\n",
    "md3.fit(x2,y)\n",
    "print(md3.score(x2,y))"
   ]
  },
  {
   "cell_type": "code",
   "execution_count": 49,
   "metadata": {
    "collapsed": false
   },
   "outputs": [
    {
     "name": "stdout",
     "output_type": "stream",
     "text": [
      "0.322884243395\n"
     ]
    }
   ],
   "source": [
    "keys = keys +filter(lambda x :\"cafe\" in x.split(\"_\"), train.keys())\n",
    "x3 = train[keys].fillna(value=0).as_matrix()\n",
    "md4 = linear_model.LinearRegression()\n",
    "md4.fit(x3,y)\n",
    "print(md4.score(x3,y))"
   ]
  },
  {
   "cell_type": "code",
   "execution_count": 50,
   "metadata": {
    "collapsed": false
   },
   "outputs": [
    {
     "data": {
      "text/plain": [
       "id                                                       2\n",
       "timestamp                                       2011-08-23\n",
       "full_sq                                                 34\n",
       "life_sq                                                 19\n",
       "floor                                                    3\n",
       "max_floor                                              NaN\n",
       "material                                               NaN\n",
       "build_year                                             NaN\n",
       "num_room                                               NaN\n",
       "kitch_sq                                               NaN\n",
       "state                                                  NaN\n",
       "product_type                                    Investment\n",
       "sub_area                                 Nagatinskij Zaton\n",
       "area_m                                         9.58934e+06\n",
       "raion_popul                                         115352\n",
       "green_zone_part                                   0.372602\n",
       "indust_part                                      0.0496373\n",
       "children_preschool                                    6880\n",
       "preschool_quota                                       3119\n",
       "preschool_education_centers_raion                        5\n",
       "children_school                                       7759\n",
       "school_quota                                          6237\n",
       "school_education_centers_raion                           8\n",
       "school_education_centers_top_20_raion                    0\n",
       "hospital_beds_raion                                    229\n",
       "healthcare_centers_raion                                 1\n",
       "university_top_20_raion                                  0\n",
       "sport_objects_raion                                      6\n",
       "additional_education_raion                               1\n",
       "culture_objects_top_25                                 yes\n",
       "                                               ...        \n",
       "big_church_count_3000                                    1\n",
       "church_count_3000                                        7\n",
       "mosque_count_3000                                        0\n",
       "leisure_count_3000                                       6\n",
       "sport_count_3000                                        19\n",
       "market_count_3000                                        1\n",
       "green_part_5000                                      10.26\n",
       "prom_part_5000                                       27.47\n",
       "office_count_5000                                       66\n",
       "office_sqm_5000                                    2690465\n",
       "trc_count_5000                                          40\n",
       "trc_sqm_5000                                       2034942\n",
       "cafe_count_5000                                        177\n",
       "cafe_sum_5000_min_price_avg                         673.81\n",
       "cafe_sum_5000_max_price_avg                        1148.81\n",
       "cafe_avg_price_5000                                 911.31\n",
       "cafe_count_5000_na_price                                 9\n",
       "cafe_count_5000_price_500                               49\n",
       "cafe_count_5000_price_1000                              65\n",
       "cafe_count_5000_price_1500                              36\n",
       "cafe_count_5000_price_2500                              15\n",
       "cafe_count_5000_price_4000                               3\n",
       "cafe_count_5000_price_high                               0\n",
       "big_church_count_5000                                   15\n",
       "church_count_5000                                       29\n",
       "mosque_count_5000                                        1\n",
       "leisure_count_5000                                      10\n",
       "sport_count_5000                                        66\n",
       "market_count_5000                                       14\n",
       "price_doc                                          6000000\n",
       "Name: 1, Length: 292, dtype: object"
      ]
     },
     "execution_count": 50,
     "metadata": {},
     "output_type": "execute_result"
    }
   ],
   "source": [
    "line = train.iloc[1,:]\n",
    "line"
   ]
  },
  {
   "cell_type": "code",
   "execution_count": 55,
   "metadata": {
    "collapsed": false
   },
   "outputs": [
    {
     "name": "stdout",
     "output_type": "stream",
     "text": [
      "['id', 'full_sq', 'life_sq', 'floor', 'max_floor', 'material', 'build_year', 'num_room', 'kitch_sq', 'state', 'area_m', 'raion_popul', 'green_zone_part', 'indust_part', 'children_preschool', 'preschool_quota', 'preschool_education_centers_raion', 'children_school', 'school_quota', 'school_education_centers_raion', 'school_education_centers_top_20_raion', 'hospital_beds_raion', 'healthcare_centers_raion', 'university_top_20_raion', 'sport_objects_raion', 'additional_education_raion', 'culture_objects_top_25_raion', 'shopping_centers_raion', 'office_raion', 'full_all', 'male_f', 'female_f', 'young_all', 'young_male', 'young_female', 'work_all', 'work_male', 'work_female', 'ekder_all', 'ekder_male', 'ekder_female', '0_6_all', '0_6_male', '0_6_female', '7_14_all', '7_14_male', '7_14_female', '0_17_all', '0_17_male', '0_17_female', '16_29_all', '16_29_male', '16_29_female', '0_13_all', '0_13_male', '0_13_female', 'raion_build_count_with_material_info', 'build_count_block', 'build_count_wood', 'build_count_frame', 'build_count_brick', 'build_count_monolith', 'build_count_panel', 'build_count_foam', 'build_count_slag', 'build_count_mix', 'raion_build_count_with_builddate_info', 'build_count_before_1920', 'build_count_1921-1945', 'build_count_1946-1970', 'build_count_1971-1995', 'build_count_after_1995', 'ID_metro', 'metro_min_avto', 'metro_km_avto', 'metro_min_walk', 'metro_km_walk', 'kindergarten_km', 'school_km', 'park_km', 'green_zone_km', 'industrial_km', 'water_treatment_km', 'cemetery_km', 'incineration_km', 'railroad_station_walk_km', 'railroad_station_walk_min', 'ID_railroad_station_walk', 'railroad_station_avto_km', 'railroad_station_avto_min', 'ID_railroad_station_avto', 'public_transport_station_km', 'public_transport_station_min_walk', 'water_km', 'mkad_km', 'ttk_km', 'sadovoe_km', 'bulvar_ring_km', 'kremlin_km', 'big_road1_km', 'ID_big_road1', 'big_road2_km', 'ID_big_road2', 'railroad_km', 'zd_vokzaly_avto_km', 'ID_railroad_terminal', 'bus_terminal_avto_km', 'ID_bus_terminal', 'oil_chemistry_km', 'nuclear_reactor_km', 'radiation_km', 'power_transmission_line_km', 'thermal_power_plant_km', 'ts_km', 'big_market_km', 'market_shop_km', 'fitness_km', 'swim_pool_km', 'ice_rink_km', 'stadium_km', 'basketball_km', 'hospice_morgue_km', 'detention_facility_km', 'public_healthcare_km', 'university_km', 'workplaces_km', 'shopping_centers_km', 'office_km', 'additional_education_km', 'preschool_km', 'big_church_km', 'church_synagogue_km', 'mosque_km', 'theater_km', 'museum_km', 'exhibition_km', 'catering_km', 'green_part_500', 'prom_part_500', 'office_count_500', 'office_sqm_500', 'trc_count_500', 'trc_sqm_500', 'cafe_count_500', 'cafe_sum_500_min_price_avg', 'cafe_sum_500_max_price_avg', 'cafe_avg_price_500', 'cafe_count_500_na_price', 'cafe_count_500_price_500', 'cafe_count_500_price_1000', 'cafe_count_500_price_1500', 'cafe_count_500_price_2500', 'cafe_count_500_price_4000', 'cafe_count_500_price_high', 'big_church_count_500', 'church_count_500', 'mosque_count_500', 'leisure_count_500', 'sport_count_500', 'market_count_500', 'green_part_1000', 'prom_part_1000', 'office_count_1000', 'office_sqm_1000', 'trc_count_1000', 'trc_sqm_1000', 'cafe_count_1000', 'cafe_sum_1000_min_price_avg', 'cafe_sum_1000_max_price_avg', 'cafe_avg_price_1000', 'cafe_count_1000_na_price', 'cafe_count_1000_price_500', 'cafe_count_1000_price_1000', 'cafe_count_1000_price_1500', 'cafe_count_1000_price_2500', 'cafe_count_1000_price_4000', 'cafe_count_1000_price_high', 'big_church_count_1000', 'church_count_1000', 'mosque_count_1000', 'leisure_count_1000', 'sport_count_1000', 'market_count_1000', 'green_part_1500', 'prom_part_1500', 'office_count_1500', 'office_sqm_1500', 'trc_count_1500', 'trc_sqm_1500', 'cafe_count_1500', 'cafe_sum_1500_min_price_avg', 'cafe_sum_1500_max_price_avg', 'cafe_avg_price_1500', 'cafe_count_1500_na_price', 'cafe_count_1500_price_500', 'cafe_count_1500_price_1000', 'cafe_count_1500_price_1500', 'cafe_count_1500_price_2500', 'cafe_count_1500_price_4000', 'cafe_count_1500_price_high', 'big_church_count_1500', 'church_count_1500', 'mosque_count_1500', 'leisure_count_1500', 'sport_count_1500', 'market_count_1500', 'green_part_2000', 'prom_part_2000', 'office_count_2000', 'office_sqm_2000', 'trc_count_2000', 'trc_sqm_2000', 'cafe_count_2000', 'cafe_sum_2000_min_price_avg', 'cafe_sum_2000_max_price_avg', 'cafe_avg_price_2000', 'cafe_count_2000_na_price', 'cafe_count_2000_price_500', 'cafe_count_2000_price_1000', 'cafe_count_2000_price_1500', 'cafe_count_2000_price_2500', 'cafe_count_2000_price_4000', 'cafe_count_2000_price_high', 'big_church_count_2000', 'church_count_2000', 'mosque_count_2000', 'leisure_count_2000', 'sport_count_2000', 'market_count_2000', 'green_part_3000', 'prom_part_3000', 'office_count_3000', 'office_sqm_3000', 'trc_count_3000', 'trc_sqm_3000', 'cafe_count_3000', 'cafe_sum_3000_min_price_avg', 'cafe_sum_3000_max_price_avg', 'cafe_avg_price_3000', 'cafe_count_3000_na_price', 'cafe_count_3000_price_500', 'cafe_count_3000_price_1000', 'cafe_count_3000_price_1500', 'cafe_count_3000_price_2500', 'cafe_count_3000_price_4000', 'cafe_count_3000_price_high', 'big_church_count_3000', 'church_count_3000', 'mosque_count_3000', 'leisure_count_3000', 'sport_count_3000', 'market_count_3000', 'green_part_5000', 'prom_part_5000', 'office_count_5000', 'office_sqm_5000', 'trc_count_5000', 'trc_sqm_5000', 'cafe_count_5000', 'cafe_sum_5000_min_price_avg', 'cafe_sum_5000_max_price_avg', 'cafe_avg_price_5000', 'cafe_count_5000_na_price', 'cafe_count_5000_price_500', 'cafe_count_5000_price_1000', 'cafe_count_5000_price_1500', 'cafe_count_5000_price_2500', 'cafe_count_5000_price_4000', 'cafe_count_5000_price_high', 'big_church_count_5000', 'church_count_5000', 'mosque_count_5000', 'leisure_count_5000', 'sport_count_5000', 'market_count_5000']\n"
     ]
    }
   ],
   "source": [
    "k = []\n",
    "for key in line.keys():\n",
    "    if isinstance(line[key],int) or isinstance(line[key],float):\n",
    "        if(key != \"price_doc\"):\n",
    "            k.append(key)\n",
    "print(k)"
   ]
  },
  {
   "cell_type": "code",
   "execution_count": 58,
   "metadata": {
    "collapsed": false
   },
   "outputs": [
    {
     "name": "stdout",
     "output_type": "stream",
     "text": [
      "0.427508181162\n"
     ]
    }
   ],
   "source": [
    "x4 = train[k].fillna(value=0).as_matrix()\n",
    "xt4 = test[k].fillna(value=0).as_matrix()\n",
    "md5 = linear_model.LinearRegression()\n",
    "md5.fit(x4,y)\n",
    "print(md5.score(x4,y))"
   ]
  },
  {
   "cell_type": "code",
   "execution_count": 60,
   "metadata": {
    "collapsed": false
   },
   "outputs": [
    {
     "data": {
      "text/plain": [
       "[<matplotlib.lines.Line2D at 0x7faa3bd35e90>]"
      ]
     },
     "execution_count": 60,
     "metadata": {},
     "output_type": "execute_result"
    },
    {
     "data": {
      "image/png": "[encoded data removed]",
      "text/plain": [
       "<matplotlib.figure.Figure at 0x7faa4605fc90>"
      ]
     },
     "metadata": {},
     "output_type": "display_data"
    }
   ],
   "source": [
    "yp = md5.predict(xt4)\n",
    "err = yt -yp\n",
    "\n",
    "%matplotlib inline\n",
    "plt.plot(err)"
   ]
  },
  {
   "cell_type": "code",
   "execution_count": 66,
   "metadata": {
    "collapsed": false
   },
   "outputs": [
    {
     "name": "stdout",
     "output_type": "stream",
     "text": [
      "[254 184 227 136 202 135 260  90 243 108 266  24 116  85  23 245 228  52\n",
      " 250 122 159 248 236 125 173 172 225 199 226 218 220 219  25  86  87  22\n",
      "  99 100  20 107 106  21 102 101  53  98  97  94  96  95 104 103 105 119\n",
      " 117 118   1   1   1   1   1   1   1   1   1   1   7   3   6   4   5   2\n",
      " 230 180 193  17  16 217 131 213 115 112 238 150 171  34  35 224 133 182\n",
      " 251  18  19 174 137 121 144 233 120 163 214 198 240 127 212 208 242 162\n",
      " 155 192 170 151 140 152 177 196 139 194 168 145 200 229 232 156 216 132\n",
      " 147 146 134 128 153 203 141 185 223 191 205 211 201 195 253 161 255  65\n",
      "  91  93  92  67  68  63  64  66  62  69 237 126  88 129 158 130 210 190\n",
      " 215 252 143 259  56  72  71  70  59  55  60  57  58  54  61 142 235  89\n",
      " 124 247 164 209 189 246 256 222 265  48  76  78  77  45  49  47  50  46\n",
      "  51  44 181 178 123 113 239 204 207 176 186 257 234 261  31  82  84  83\n",
      "  28  30  29  32  27  33  26 183 179 111 114 241 157 206 175 160 258 187\n",
      " 264  39  75  74  73  42  37  41  36  40  38  43 138 231 110 148 188 167\n",
      " 169 154 197 262 166 263  11  81  80  79  12  10  14   9  13   8  15 244\n",
      " 221 109 149 249 165]\n"
     ]
    }
   ],
   "source": [
    "rfe = RFE(md5,10)\n",
    "rfe.fit(x4,y)\n"
   ]
  },
  {
   "cell_type": "code",
   "execution_count": 68,
   "metadata": {
    "collapsed": false
   },
   "outputs": [
    {
     "name": "stdout",
     "output_type": "stream",
     "text": [
      "['raion_build_count_with_material_info', 'build_count_block', 'build_count_wood', 'build_count_frame', 'build_count_brick', 'build_count_monolith', 'build_count_panel', 'build_count_foam', 'build_count_slag', 'build_count_mix', 'raion_build_count_with_builddate_info', 'build_count_before_1920', 'build_count_1921-1945', 'build_count_1946-1970', 'build_count_1971-1995', 'build_count_after_1995', 'cafe_count_5000_price_1500', 'cafe_count_5000_price_4000']\n"
     ]
    }
   ],
   "source": [
    "rang = rfe.ranking_\n",
    "k1 =[]\n",
    "for i in range(len(rang)):\n",
    "    if (rang[i] <10):\n",
    "        k1.append(k[i]);\n",
    "print(k1)"
   ]
  },
  {
   "cell_type": "code",
   "execution_count": 70,
   "metadata": {
    "collapsed": false
   },
   "outputs": [
    {
     "name": "stdout",
     "output_type": "stream",
     "text": [
      "0.106666798724\n"
     ]
    }
   ],
   "source": [
    "x5 = train[k1].fillna(value=0).as_matrix()\n",
    "xt5 = test[k1].fillna(value=0).as_matrix()\n",
    "md6 = linear_model.LinearRegression()\n",
    "md6.fit(x5,y)\n",
    "print(md6.score(x5,y))"
   ]
  },
  {
   "cell_type": "code",
   "execution_count": 80,
   "metadata": {
    "collapsed": false
   },
   "outputs": [
    {
     "data": {
      "image/png": "[encoded data removed]",
      "text/plain": [
       "<matplotlib.figure.Figure at 0x7faa3e1b8a90>"
      ]
     },
     "metadata": {},
     "output_type": "display_data"
    }
   ],
   "source": [
    "suf = train.get([\"full_sq\"])\n",
    "suf1 = suf.loc[(suf[\"full_sq\"]<400)].plot()\n",
    "plt.show()"
   ]
  },
  {
   "cell_type": "code",
   "execution_count": 133,
   "metadata": {
    "collapsed": false
   },
   "outputs": [
    {
     "name": "stdout",
     "output_type": "stream",
     "text": [
      "0.373613404904\n"
     ]
    }
   ],
   "source": [
    "train1 = train.loc[(train[\"full_sq\"] <200) & (train[\"full_sq\"] >8) ]\n",
    "\n",
    "surf = train1.get([\"full_sq\",\"life_sq\"]).fillna(value=0).as_matrix();\n",
    "target = train1.get([\"price_doc\"]).as_matrix();\n",
    "mdl = linear_model.LinearRegression()\n",
    "mdl.fit(surf,target)\n",
    "print(mdl.score(surf,target))"
   ]
  },
  {
   "cell_type": "code",
   "execution_count": 121,
   "metadata": {
    "collapsed": false
   },
   "outputs": [
    {
     "data": {
      "text/html": [
       "<div>\n",
       "<style>\n",
       "    .dataframe thead tr:only-child th {\n",
       "        text-align: right;\n",
       "    }\n",
       "\n",
       "    .dataframe thead th {\n",
       "        text-align: left;\n",
       "    }\n",
       "\n",
       "    .dataframe tbody tr th {\n",
       "        vertical-align: top;\n",
       "    }\n",
       "</style>\n",
       "<table border=\"1\" class=\"dataframe\">\n",
       "  <thead>\n",
       "    <tr style=\"text-align: right;\">\n",
       "      <th></th>\n",
       "      <th>full_sq</th>\n",
       "      <th>life_sq</th>\n",
       "    </tr>\n",
       "  </thead>\n",
       "  <tbody>\n",
       "    <tr>\n",
       "      <th>0</th>\n",
       "      <td>43</td>\n",
       "      <td>27.0</td>\n",
       "    </tr>\n",
       "    <tr>\n",
       "      <th>1</th>\n",
       "      <td>34</td>\n",
       "      <td>19.0</td>\n",
       "    </tr>\n",
       "    <tr>\n",
       "      <th>2</th>\n",
       "      <td>43</td>\n",
       "      <td>29.0</td>\n",
       "    </tr>\n",
       "    <tr>\n",
       "      <th>3</th>\n",
       "      <td>89</td>\n",
       "      <td>50.0</td>\n",
       "    </tr>\n",
       "    <tr>\n",
       "      <th>4</th>\n",
       "      <td>77</td>\n",
       "      <td>77.0</td>\n",
       "    </tr>\n",
       "  </tbody>\n",
       "</table>\n",
       "</div>"
      ],
      "text/plain": [
       "   full_sq  life_sq\n",
       "0       43     27.0\n",
       "1       34     19.0\n",
       "2       43     29.0\n",
       "3       89     50.0\n",
       "4       77     77.0"
      ]
     },
     "execution_count": 121,
     "metadata": {},
     "output_type": "execute_result"
    }
   ],
   "source": [
    "surfs = train1[[\"full_sq\",\"life_sq\"]]\n",
    "surfs.head()"
   ]
  },
  {
   "cell_type": "code",
   "execution_count": 122,
   "metadata": {
    "collapsed": false
   },
   "outputs": [],
   "source": [
    "inds =[]\n",
    "for ind in surfs.index:\n",
    "    line = surfs.loc[ind];\n",
    "    if (line[\"full_sq\"] < line[\"life_sq\"]):\n",
    "        aux =line[\"full_sq\"];\n",
    "        surfs.set_value(ind, \"full_sq\",line[\"life_sq\"]);\n",
    "        surfs.set_value(ind, \"life_sq\",aux);\n",
    "        inds.append(ind);\n"
   ]
  },
  {
   "cell_type": "code",
   "execution_count": 123,
   "metadata": {
    "collapsed": false
   },
   "outputs": [
    {
     "data": {
      "text/html": [
       "<div>\n",
       "<style>\n",
       "    .dataframe thead tr:only-child th {\n",
       "        text-align: right;\n",
       "    }\n",
       "\n",
       "    .dataframe thead th {\n",
       "        text-align: left;\n",
       "    }\n",
       "\n",
       "    .dataframe tbody tr th {\n",
       "        vertical-align: top;\n",
       "    }\n",
       "</style>\n",
       "<table border=\"1\" class=\"dataframe\">\n",
       "  <thead>\n",
       "    <tr style=\"text-align: right;\">\n",
       "      <th></th>\n",
       "      <th>full_sq</th>\n",
       "      <th>life_sq</th>\n",
       "    </tr>\n",
       "  </thead>\n",
       "  <tbody>\n",
       "    <tr>\n",
       "      <th>0</th>\n",
       "      <td>43</td>\n",
       "      <td>27.0</td>\n",
       "    </tr>\n",
       "    <tr>\n",
       "      <th>1</th>\n",
       "      <td>34</td>\n",
       "      <td>19.0</td>\n",
       "    </tr>\n",
       "    <tr>\n",
       "      <th>2</th>\n",
       "      <td>43</td>\n",
       "      <td>29.0</td>\n",
       "    </tr>\n",
       "    <tr>\n",
       "      <th>3</th>\n",
       "      <td>89</td>\n",
       "      <td>50.0</td>\n",
       "    </tr>\n",
       "    <tr>\n",
       "      <th>4</th>\n",
       "      <td>77</td>\n",
       "      <td>77.0</td>\n",
       "    </tr>\n",
       "  </tbody>\n",
       "</table>\n",
       "</div>"
      ],
      "text/plain": [
       "   full_sq  life_sq\n",
       "0       43     27.0\n",
       "1       34     19.0\n",
       "2       43     29.0\n",
       "3       89     50.0\n",
       "4       77     77.0"
      ]
     },
     "execution_count": 123,
     "metadata": {},
     "output_type": "execute_result"
    }
   ],
   "source": [
    "nsurf = surfs.loc[(surfs[\"life_sq\"].notnull())]\n",
    "nsurf.head()"
   ]
  },
  {
   "cell_type": "code",
   "execution_count": 124,
   "metadata": {
    "collapsed": false
   },
   "outputs": [
    {
     "data": {
      "text/plain": [
       "0.63343611736369632"
      ]
     },
     "execution_count": 124,
     "metadata": {},
     "output_type": "execute_result"
    }
   ],
   "source": [
    "rep = nsurf[\"life_sq\"]/nsurf[\"full_sq\"];\n",
    "m = rep.mean()\n",
    "m"
   ]
  },
  {
   "cell_type": "code",
   "execution_count": 125,
   "metadata": {
    "collapsed": false
   },
   "outputs": [
    {
     "name": "stderr",
     "output_type": "stream",
     "text": [
      "/home/eisti/.local/lib/python2.7/site-packages/ipykernel/__main__.py:3: SettingWithCopyWarning: \n",
      "A value is trying to be set on a copy of a slice from a DataFrame.\n",
      "Try using .loc[row_indexer,col_indexer] = value instead\n",
      "\n",
      "See the caveats in the documentation: http://pandas.pydata.org/pandas-docs/stable/indexing.html#indexing-view-versus-copy\n",
      "  app.launch_new_instance()\n"
     ]
    },
    {
     "data": {
      "text/html": [
       "<div>\n",
       "<style>\n",
       "    .dataframe thead tr:only-child th {\n",
       "        text-align: right;\n",
       "    }\n",
       "\n",
       "    .dataframe thead th {\n",
       "        text-align: left;\n",
       "    }\n",
       "\n",
       "    .dataframe tbody tr th {\n",
       "        vertical-align: top;\n",
       "    }\n",
       "</style>\n",
       "<table border=\"1\" class=\"dataframe\">\n",
       "  <thead>\n",
       "    <tr style=\"text-align: right;\">\n",
       "      <th></th>\n",
       "      <th>full_sq</th>\n",
       "      <th>life_sq</th>\n",
       "    </tr>\n",
       "  </thead>\n",
       "  <tbody>\n",
       "    <tr>\n",
       "      <th>559</th>\n",
       "      <td>73</td>\n",
       "      <td>46.240837</td>\n",
       "    </tr>\n",
       "    <tr>\n",
       "      <th>624</th>\n",
       "      <td>110</td>\n",
       "      <td>69.677973</td>\n",
       "    </tr>\n",
       "    <tr>\n",
       "      <th>783</th>\n",
       "      <td>167</td>\n",
       "      <td>105.783832</td>\n",
       "    </tr>\n",
       "    <tr>\n",
       "      <th>824</th>\n",
       "      <td>53</td>\n",
       "      <td>33.572114</td>\n",
       "    </tr>\n",
       "    <tr>\n",
       "      <th>834</th>\n",
       "      <td>81</td>\n",
       "      <td>51.308326</td>\n",
       "    </tr>\n",
       "  </tbody>\n",
       "</table>\n",
       "</div>"
      ],
      "text/plain": [
       "     full_sq     life_sq\n",
       "559       73   46.240837\n",
       "624      110   69.677973\n",
       "783      167  105.783832\n",
       "824       53   33.572114\n",
       "834       81   51.308326"
      ]
     },
     "execution_count": 125,
     "metadata": {},
     "output_type": "execute_result"
    }
   ],
   "source": [
    "nulsurf = surfs.loc[(surfs[\"life_sq\"].isnull())]\n",
    "nulsurf.pop(\"life_sq\")\n",
    "nulsurf[\"life_sq\"] = m*nulsurf[\"full_sq\"]\n",
    "nulsurf.head()"
   ]
  },
  {
   "cell_type": "code",
   "execution_count": 126,
   "metadata": {
    "collapsed": false
   },
   "outputs": [
    {
     "data": {
      "text/html": [
       "<div>\n",
       "<style>\n",
       "    .dataframe thead tr:only-child th {\n",
       "        text-align: right;\n",
       "    }\n",
       "\n",
       "    .dataframe thead th {\n",
       "        text-align: left;\n",
       "    }\n",
       "\n",
       "    .dataframe tbody tr th {\n",
       "        vertical-align: top;\n",
       "    }\n",
       "</style>\n",
       "<table border=\"1\" class=\"dataframe\">\n",
       "  <thead>\n",
       "    <tr style=\"text-align: right;\">\n",
       "      <th></th>\n",
       "      <th>full_sq</th>\n",
       "      <th>life_sq</th>\n",
       "    </tr>\n",
       "  </thead>\n",
       "  <tbody>\n",
       "    <tr>\n",
       "      <th>0</th>\n",
       "      <td>43</td>\n",
       "      <td>27.0</td>\n",
       "    </tr>\n",
       "    <tr>\n",
       "      <th>1</th>\n",
       "      <td>34</td>\n",
       "      <td>19.0</td>\n",
       "    </tr>\n",
       "    <tr>\n",
       "      <th>2</th>\n",
       "      <td>43</td>\n",
       "      <td>29.0</td>\n",
       "    </tr>\n",
       "    <tr>\n",
       "      <th>3</th>\n",
       "      <td>89</td>\n",
       "      <td>50.0</td>\n",
       "    </tr>\n",
       "    <tr>\n",
       "      <th>4</th>\n",
       "      <td>77</td>\n",
       "      <td>77.0</td>\n",
       "    </tr>\n",
       "  </tbody>\n",
       "</table>\n",
       "</div>"
      ],
      "text/plain": [
       "   full_sq  life_sq\n",
       "0       43     27.0\n",
       "1       34     19.0\n",
       "2       43     29.0\n",
       "3       89     50.0\n",
       "4       77     77.0"
      ]
     },
     "execution_count": 126,
     "metadata": {},
     "output_type": "execute_result"
    }
   ],
   "source": [
    "surface = pd.concat([nsurf,nulsurf])\n",
    "surface.head()"
   ]
  },
  {
   "cell_type": "code",
   "execution_count": 129,
   "metadata": {
    "collapsed": false
   },
   "outputs": [
    {
     "name": "stdout",
     "output_type": "stream",
     "text": [
      "0.000382683730449\n"
     ]
    }
   ],
   "source": [
    "mdl21 = linear_model.LinearRegression()\n",
    "mdl21.fit(surface,target)\n",
    "print(mdl21.score(surface,target))"
   ]
  },
  {
   "cell_type": "code",
   "execution_count": 134,
   "metadata": {
    "collapsed": false
   },
   "outputs": [
    {
     "name": "stdout",
     "output_type": "stream",
     "text": [
      "0.373613404904\n"
     ]
    }
   ],
   "source": [
    "surf0 = train1.get([\"full_sq\",\"life_sq\"]).fillna(value=0);\n",
    "mdl0 = linear_model.LinearRegression()\n",
    "mdl0.fit(surf0.as_matrix(),target)\n",
    "print(mdl0.score(surf0.as_matrix(),target))"
   ]
  },
  {
   "cell_type": "code",
   "execution_count": 135,
   "metadata": {
    "collapsed": false
   },
   "outputs": [
    {
     "name": "stdout",
     "output_type": "stream",
     "text": [
      "0.179466600478\n"
     ]
    }
   ],
   "source": [
    "surf1 = surf0.copy()\n",
    "for ind in surf1.index:\n",
    "    line = surf1.loc[ind];\n",
    "    if (line[\"full_sq\"] < line[\"life_sq\"]):\n",
    "        aux =line[\"full_sq\"];\n",
    "        surf1.set_value(ind, \"full_sq\",line[\"life_sq\"]);\n",
    "        surf1.set_value(ind, \"life_sq\",aux);\n",
    "\n",
    "mdl1 = linear_model.LinearRegression()\n",
    "mdl1.fit(surf1.as_matrix(),target)\n",
    "print(mdl1.score(surf1.as_matrix(),target))"
   ]
  },
  {
   "cell_type": "code",
   "execution_count": null,
   "metadata": {
    "collapsed": true
   },
   "outputs": [],
   "source": [
    "fsurf = surf0.loc[(surf0[\"full_sq\"] > =surf0[\"life_sq\"])]\n",
    "m = fsurf[\"life_sq\"].mean()\n"
   ]
  }
 ],
 "metadata": {
  "kernelspec": {
   "display_name": "Python 2",
   "language": "python",
   "name": "python2"
  },
  "language_info": {
   "codemirror_mode": {
    "name": "ipython",
    "version": 2
   },
   "file_extension": ".py",
   "mimetype": "text/x-python",
   "name": "python",
   "nbconvert_exporter": "python",
   "pygments_lexer": "ipython2",
   "version": "2.7.9"
  }
 },
 "nbformat": 4,
 "nbformat_minor": 2
}
